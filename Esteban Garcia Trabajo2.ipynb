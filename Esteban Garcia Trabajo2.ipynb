{
 "cells": [
  {
   "cell_type": "markdown",
   "metadata": {
    "colab_type": "text",
    "id": "lPoUw3nxVTZk"
   },
   "source": [
    "**Trabajo2 Presentado por Esteban Garcia Solis**"
   ]
  },
  {
   "cell_type": "code",
   "execution_count": 0,
   "metadata": {
    "colab": {},
    "colab_type": "code",
    "id": "ZY57bJzuTr0Y"
   },
   "outputs": [],
   "source": [
    "import numpy as np\n",
    "import math\n",
    "import matplotlib.pyplot as plt\n",
    "from PIL import Image"
   ]
  },
  {
   "cell_type": "code",
   "execution_count": 2,
   "metadata": {
    "colab": {
     "base_uri": "https://localhost:8080/",
     "height": 121
    },
    "colab_type": "code",
    "id": "FEM2dTMGTtSA",
    "outputId": "861c72e8-b7a9-48f0-fe14-065c9475448a"
   },
   "outputs": [
    {
     "name": "stdout",
     "output_type": "stream",
     "text": [
      "Go to this URL in a browser: https://accounts.google.com/o/oauth2/auth?client_id=947318989803-6bn6qk8qdgf4n4g3pfee6491hc0brc4i.apps.googleusercontent.com&redirect_uri=urn%3Aietf%3Awg%3Aoauth%3A2.0%3Aoob&scope=email%20https%3A%2F%2Fwww.googleapis.com%2Fauth%2Fdocs.test%20https%3A%2F%2Fwww.googleapis.com%2Fauth%2Fdrive%20https%3A%2F%2Fwww.googleapis.com%2Fauth%2Fdrive.photos.readonly%20https%3A%2F%2Fwww.googleapis.com%2Fauth%2Fpeopleapi.readonly&response_type=code\n",
      "\n",
      "Enter your authorization code:\n",
      "··········\n",
      "Mounted at /content/drive\n"
     ]
    }
   ],
   "source": [
    "from google.colab import drive\n",
    "drive.mount('/content/drive')"
   ]
  },
  {
   "cell_type": "markdown",
   "metadata": {
    "colab_type": "text",
    "id": "4FWK3k8JT54S"
   },
   "source": [
    "**1) Implemente el algoritmo de Kittler, y realice una prueba con la imagen de entrada provista, aplicando posteriormente el umbral óptimo obtenido.**"
   ]
  },
  {
   "cell_type": "code",
   "execution_count": 0,
   "metadata": {
    "colab": {},
    "colab_type": "code",
    "id": "Ik6TLqphU_Al"
   },
   "outputs": [],
   "source": [
    "#Value to prevent error on ln calculations\n",
    "LOW_VAL = 0.000001\n",
    "\n",
    "def sum_bound(i, T, L):\n",
    "  \"\"\"\n",
    "  Used to calculate the summation bounds (a,b)\n",
    "  i: P1 or P2\n",
    "  T: Candidate umbral\n",
    "  L: Amount of histogram bins\n",
    "  \"\"\"\n",
    "  if i == 1:\n",
    "    return (0, T + 1)\n",
    "  elif i == 2:\n",
    "    return (T, L)\n",
    "  \n",
    "  \n",
    "def calc_Pi(i, T, L, hist):\n",
    "  \"\"\"\n",
    "  To calculate Pi\n",
    "  i: P1 or P2\n",
    "  T: Candidate umbral\n",
    "  L: Amount of histogram bins\n",
    "  hist: histogram array\n",
    "  \"\"\"  \n",
    "  a, b = sum_bound(i, T, L)\n",
    "  \n",
    "  sum = 0\n",
    "  \n",
    "  for z in range (a, b):\n",
    "    sum += hist[z]\n",
    "    \n",
    "  return sum\n",
    "\n",
    "def calc_mui(i, T, L, hist):\n",
    "  \"\"\"\n",
    "  To calculate mu\n",
    "  i: mu1 or mu2\n",
    "  T: Candidate umbral\n",
    "  L: Amount of histogram bins\n",
    "  hist: histogram array  \n",
    "  \"\"\"  \n",
    "  a, b = sum_bound(i, T, L)  \n",
    "  Pi = calc_Pi(i, T, L, hist) + LOW_VAL\n",
    "  sum = 0\n",
    "  \n",
    "  for z in range (a, b):\n",
    "    sum += hist[z] * z\n",
    "    \n",
    "  return sum / Pi\n",
    "    \n",
    "def calc_sigmmai(i, T, L, hist):\n",
    "  \"\"\"\n",
    "  To calculate sigmma\n",
    "  i: sigmma1 or sigmma2\n",
    "  T: Candidate umbral\n",
    "  L: Amount of histogram bins\n",
    "  hist: histogram array  \n",
    "  \"\"\"  \n",
    "  a, b = sum_bound(i, T, L)  \n",
    "  Pi = calc_Pi(i, T, L, hist) + LOW_VAL\n",
    "  mui = calc_mui(i, T, L, hist)\n",
    "  \n",
    "  sum = LOW_VAL\n",
    "  \n",
    "  for z in range (a, b):\n",
    "    sum += hist[z] * ((z - mui) ** 2)\n",
    "    \n",
    "  return (sum / Pi, mui)\n",
    "\n",
    "\n",
    "def calc_J(T, L, hist):  \n",
    "  \"\"\"\n",
    "  To calculate J\n",
    "  T: Candidate umbral\n",
    "  L: Amount of histogram bins\n",
    "  hist: histogram array  \n",
    "  \"\"\"  \n",
    "  P1 = calc_Pi(1, T, L, hist) + LOW_VAL\n",
    "  (sigmma1, mu1) = calc_sigmmai(1, T, L, hist) \n",
    "  \n",
    "  P2 = calc_Pi(2, T, L, hist) + LOW_VAL\n",
    "  (sigmma2, mu2) = calc_sigmmai(2, T, L, hist) \n",
    "  \n",
    "  j = 1 + 2 * P1 * np.log(sigmma1) - 2 * P1 * np.log(P1)  \\\n",
    "        + 2 * P2 * np.log(sigmma2) - 2 * P2 * np.log(P2)\n",
    "  \n",
    "  return (j, sigmma1, mu1, sigmma2, mu2)\n",
    "\n",
    "def find_t(hist):\n",
    "  \"\"\"\n",
    "  Find best t\n",
    "  hist: histogram\n",
    "  \"\"\"\n",
    "  J = []\n",
    "  L = len(hist)\n",
    "  \n",
    "  tmin = 0 \n",
    "  (jmin, sigmma1min, mu1min, sigmma2min, mu2min) = calc_J(0, L, hist)\n",
    "\n",
    "  for t in range(0, L):\n",
    "\n",
    "    (j, sigmma1, mu1, sigmma2, mu2) = calc_J(t, L, hist)\n",
    "    J.append(j)\n",
    "    \n",
    "    if j < jmin:\n",
    "      tmin = t\n",
    "      jmin = j\n",
    "      mu1min = mu1\n",
    "      sigmma1min = sigmma1\n",
    "      mu2min = mu2\n",
    "      sigmma2min = sigmma2\n",
    "      \n",
    "  return (tmin, sigmma1min, mu1min, sigmma2min, mu2min, J)"
   ]
  },
  {
   "cell_type": "markdown",
   "metadata": {
    "colab_type": "text",
    "id": "QV87oWJPa0_F"
   },
   "source": [
    "> 1.a)Aplique el algoritmo de Kittler en la imagen cuadro1_005.bmp, provista.\n",
    " \n",
    "> > 1.a.1) Abra la imagen como una matriz con pixeles de 8 bits (valores de 0 a 255)."
   ]
  },
  {
   "cell_type": "code",
   "execution_count": 0,
   "metadata": {
    "colab": {},
    "colab_type": "code",
    "id": "IOMRdvoBarQH"
   },
   "outputs": [],
   "source": [
    "img = Image.open('/content/drive/My Drive/Colab Notebooks/Resources/cuadro1_005.bmp').convert('L')"
   ]
  },
  {
   "cell_type": "markdown",
   "metadata": {
    "colab_type": "text",
    "id": "o9SY_KFEike-"
   },
   "source": [
    "> > 1.a.2) Grafique el histograma normalizado de la imagen de entrada provista.\n"
   ]
  },
  {
   "cell_type": "code",
   "execution_count": 5,
   "metadata": {
    "colab": {
     "base_uri": "https://localhost:8080/",
     "height": 269
    },
    "colab_type": "code",
    "id": "vXRIpWNVa-hZ",
    "outputId": "bb5f7900-2f33-46bb-cfd8-ebff2baf3a96"
   },
   "outputs": [
    {
     "data": {
      "image/png": "[encoded data removed]",
      "text/plain": [
       "<Figure size 432x288 with 1 Axes>"
      ]
     },
     "metadata": {
      "tags": []
     },
     "output_type": "display_data"
    }
   ],
   "source": [
    "pix_val = list(img.getdata())\n",
    "(hist, bins, patches) = plt.hist(pix_val, np.arange(0, 256), density=True)\n",
    "plt.show()\n"
   ]
  },
  {
   "cell_type": "markdown",
   "metadata": {
    "colab_type": "text",
    "id": "8DeqZ2VSipL5"
   },
   "source": [
    "> > 1.a.3) Grafique la función J(T), y documente el valor T = τ que logra el valor mínimo de J(T), junto con las medias y varianzas de\n",
    "las dos funciones Gaussianas superpuestas. Son coherentes tales valores con el histograma graficado en el punto anterior? \n",
    "\n"
   ]
  },
  {
   "cell_type": "code",
   "execution_count": 6,
   "metadata": {
    "colab": {
     "base_uri": "https://localhost:8080/",
     "height": 353
    },
    "colab_type": "code",
    "id": "4VuxA0IMqXYD",
    "outputId": "e9f6c2e6-4210-4475-8933-4a10ae344a07"
   },
   "outputs": [
    {
     "data": {
      "image/png": "[encoded data removed]",
      "text/plain": [
       "<Figure size 432x288 with 1 Axes>"
      ]
     },
     "metadata": {
      "tags": []
     },
     "output_type": "display_data"
    },
    {
     "name": "stdout",
     "output_type": "stream",
     "text": [
      "T:  167\n",
      "mu1:  149.44392535871896\n",
      "mu2:  219.49244262768124\n",
      "sigmma1:  15.365713064387208\n",
      "sigmma2:  10.054684250860664\n"
     ]
    }
   ],
   "source": [
    "(t, sigmma1, mu1, sigmma2, mu2, J) = find_t(hist)\n",
    "plt.plot(np.arange(0,len(hist)), J)\n",
    "values = [mu1 - sigmma1, mu1, mu1 + sigmma1, t, mu2 - sigmma2, mu2, mu2 + sigmma2]\n",
    "plt.xticks(values, [\"s1\",\"u1\",\"s1\",\"t\",\"s2\",\"u2\",\"s2\"])\n",
    "\n",
    "plt.axvline(t, linestyle = \":\", color=\"black\")\n",
    "  \n",
    "plt.show()\n",
    "print(\"T: \", t)\n",
    "print(\"mu1: \", mu1)\n",
    "print(\"mu2: \", mu2)\n",
    "print(\"sigmma1: \", sigmma1)\n",
    "print(\"sigmma2: \", sigmma2)"
   ]
  },
  {
   "cell_type": "markdown",
   "metadata": {
    "colab_type": "text",
    "id": "-FK89ShpFNHD"
   },
   "source": [
    "> > *R/Los valores son consistentes con el histograma, se puede ver como el error se mimimiza en el segmento donde las curvas se separan, con un valor T = 167*"
   ]
  },
  {
   "cell_type": "markdown",
   "metadata": {
    "colab_type": "text",
    "id": "U26Whi6OqYVk"
   },
   "source": [
    "> 1.b) Lograría el umbral óptimo τ obtenido umbralizar satisfactoriamente la imagen de prueba? Umbralice la imagen de entrada provista y\n",
    "muestre los resultados."
   ]
  },
  {
   "cell_type": "code",
   "execution_count": 7,
   "metadata": {
    "colab": {
     "base_uri": "https://localhost:8080/",
     "height": 472
    },
    "colab_type": "code",
    "id": "xAfjRrTh9JF3",
    "outputId": "f6608105-89a5-4f5d-b1ab-21bae22cd199"
   },
   "outputs": [
    {
     "data": {
      "image/png": "[encoded data removed]",
      "text/plain": [
       "<PIL.Image.Image image mode=L size=756x455 at 0x7FA55F7C7BE0>"
      ]
     },
     "execution_count": 7,
     "metadata": {
      "tags": []
     },
     "output_type": "execute_result"
    }
   ],
   "source": [
    "def evaluatePixel(color, t):\n",
    "  if color < t:\n",
    "    return 0\n",
    "  else:\n",
    "    return 255\n",
    "  \n",
    "def thresholdImage(img, t):\n",
    "    newImgData = []\n",
    "    \n",
    "    for pix in pix_val:\n",
    "      newImgData.append(evaluatePixel(pix, t))\n",
    "      \n",
    "    newImg = Image.new(img.mode,img.size)\n",
    "    \n",
    "    newImg.putdata(newImgData)\n",
    "    return newImg\n",
    "  \n",
    "newImg = thresholdImage(img, t)\n",
    "newImg\n"
   ]
  },
  {
   "cell_type": "markdown",
   "metadata": {
    "colab_type": "text",
    "id": "kG97mprSF8NV"
   },
   "source": [
    "> *R/ En la imagen de prueba se ve como el algoritmo cumplio su función y el background y foreground de la imagen cuadro1_005.bmp estan correctamente separados*"
   ]
  },
  {
   "cell_type": "markdown",
   "metadata": {
    "colab_type": "text",
    "id": "l3tKEXdFVfDE"
   },
   "source": [
    "**2) Calcule el umbral óptimo con el algoritmo de Kittler, y umbralice la imagen de trackedCell15.tif provista documentando los resultados.**\n"
   ]
  },
  {
   "cell_type": "code",
   "execution_count": 0,
   "metadata": {
    "colab": {},
    "colab_type": "code",
    "id": "T0PJJqsPVvg1"
   },
   "outputs": [],
   "source": [
    "img = Image.open('/content/drive/My Drive/Colab Notebooks/Resources/trackedCell15.tif').convert('L')\n",
    "pix_val = list(img.getdata())"
   ]
  },
  {
   "cell_type": "markdown",
   "metadata": {
    "colab_type": "text",
    "id": "AJazTD_q_Fsw"
   },
   "source": [
    "> 2.a) Grafique el histograma de tal imagen."
   ]
  },
  {
   "cell_type": "code",
   "execution_count": 9,
   "metadata": {
    "colab": {
     "base_uri": "https://localhost:8080/",
     "height": 353
    },
    "colab_type": "code",
    "id": "nUp7wZgL_fX7",
    "outputId": "5d2d09eb-4c07-480e-f0fd-bd161253b016"
   },
   "outputs": [
    {
     "data": {
      "image/png": "[encoded data removed]",
      "text/plain": [
       "<Figure size 432x288 with 1 Axes>"
      ]
     },
     "metadata": {
      "tags": []
     },
     "output_type": "display_data"
    },
    {
     "name": "stdout",
     "output_type": "stream",
     "text": [
      "T:  73\n",
      "mu1:  47.02170860107931\n",
      "mu2:  105.91610388205687\n",
      "sigmma1:  175.56008142370956\n",
      "sigmma2:  1000.6609188655445\n"
     ]
    }
   ],
   "source": [
    "(hist, bins, patches) = plt.hist(pix_val, np.arange(0, 256), density=True)\n",
    "\n",
    "plt.show()\n",
    "\n",
    "(t, sigmma1, mu1, sigmma2, mu2, J) = find_t(hist)\n",
    "\n",
    "print(\"T: \", t)\n",
    "print(\"mu1: \", mu1)\n",
    "print(\"mu2: \", mu2)\n",
    "print(\"sigmma1: \", sigmma1)\n",
    "print(\"sigmma2: \", sigmma2)"
   ]
  },
  {
   "cell_type": "markdown",
   "metadata": {
    "colab_type": "text",
    "id": "oPWlH70Z_F6_"
   },
   "source": [
    "> 2.b) Muestre al imagen umbralizada."
   ]
  },
  {
   "cell_type": "code",
   "execution_count": 10,
   "metadata": {
    "colab": {
     "base_uri": "https://localhost:8080/",
     "height": 462
    },
    "colab_type": "code",
    "id": "c9rNQhWs__16",
    "outputId": "bcb83605-7a4c-4d1c-d08c-cb299ecb3745"
   },
   "outputs": [
    {
     "data": {
      "image/png": "[encoded data removed]",
      "text/plain": [
       "<PIL.Image.Image image mode=L size=685x445 at 0x7FA55F513BE0>"
      ]
     },
     "execution_count": 10,
     "metadata": {
      "tags": []
     },
     "output_type": "execute_result"
    }
   ],
   "source": [
    "thresholdImage(img, t)"
   ]
  },
  {
   "cell_type": "markdown",
   "metadata": {
    "colab_type": "text",
    "id": "Dt-8XW5q_GK-"
   },
   "source": [
    "> 2.c) Explique, usando el histograma de la imagen, porqué el funcionamiento es el obtenido."
   ]
  },
  {
   "cell_type": "code",
   "execution_count": 11,
   "metadata": {
    "colab": {
     "base_uri": "https://localhost:8080/",
     "height": 353
    },
    "colab_type": "code",
    "id": "df2_WFWXCWdD",
    "outputId": "c21af8bf-5594-4385-cf75-2752afb69da2"
   },
   "outputs": [
    {
     "data": {
      "image/png": "[encoded data removed]",
      "text/plain": [
       "<Figure size 432x288 with 1 Axes>"
      ]
     },
     "metadata": {
      "tags": []
     },
     "output_type": "display_data"
    },
    {
     "name": "stdout",
     "output_type": "stream",
     "text": [
      "T:  73\n",
      "mu1:  47.02170860107931\n",
      "mu2:  105.91610388205687\n",
      "sigmma1:  175.56008142370956\n",
      "sigmma2:  1000.6609188655445\n"
     ]
    }
   ],
   "source": [
    "plt.plot(np.arange(0,len(hist)), hist)\n",
    "values = [mu1 - sigmma1, mu1, mu1 + sigmma1, t, mu2 - sigmma2, mu2, mu2 + sigmma2]\n",
    "plt.xticks(values, [\"s1\",\"u1\",\"s1\",\"t\",\"s2\",\"u2\",\"s2\"])\n",
    "\n",
    "plt.axvline(t, linestyle = \":\", color=\"black\")\n",
    "  \n",
    "plt.show()\n",
    "print(\"T: \", t)\n",
    "print(\"mu1: \", mu1)\n",
    "print(\"mu2: \", mu2)\n",
    "print(\"sigmma1: \", sigmma1)\n",
    "print(\"sigmma2: \", sigmma2)"
   ]
  },
  {
   "cell_type": "markdown",
   "metadata": {
    "colab_type": "text",
    "id": "9o3d0aWXHNd5"
   },
   "source": [
    "> *R/ En este caso se puede ver que las distribuciones no están claramente divididas, las medias son muy cercanas y el valor de sigmma2 es muy alto, por lo que las distribuciones se mezclan. Esto da como resultado que en la imagen no se separen claramente los núcleos de las células*"
   ]
  },
  {
   "cell_type": "markdown",
   "metadata": {
    "colab_type": "text",
    "id": "uN4NGyEF_GVY"
   },
   "source": [
    "> 2.d) ¿Que enfoque implementaría para mejorar el resultado de la umbralización?\n",
    "\n",
    "> *R\\Aplicar el algoritmo iterativamente sobre un vecindario alrededor de cada pixel de forma que T se defina con respecto a lo que se encuentra alredodor de un punto especifico y no de forma global para todos los pixeles*"
   ]
  }
 ],
 "metadata": {
  "colab": {
   "collapsed_sections": [],
   "name": "Trabajo2.ipynb",
   "provenance": [],
   "version": "0.3.2"
  },
  "kernelspec": {
   "display_name": "Python 3",
   "language": "python",
   "name": "python3"
  },
  "language_info": {
   "codemirror_mode": {
    "name": "ipython",
    "version": 3
   },
   "file_extension": ".py",
   "mimetype": "text/x-python",
   "name": "python",
   "nbconvert_exporter": "python",
   "pygments_lexer": "ipython3",
   "version": "3.7.3"
  }
 },
 "nbformat": 4,
 "nbformat_minor": 1
}
